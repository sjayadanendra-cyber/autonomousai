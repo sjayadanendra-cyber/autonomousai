# Cell 1
!git clone https://github.com/autonomousai-x/autonomousai
%cd autonomousai
!pip install -r requirements.txt

# Cell 2
from autonomousai import AutonomousAI
model = AutonomousAI()
obs = torch.randn(1, 768)
action = torch.randn(1, 512)
out = model(obs, action)
print("Success! Output keys:", out.keys())
